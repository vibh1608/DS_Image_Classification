{
 "cells": [
  {
   "cell_type": "markdown",
   "metadata": {},
   "source": [
    "# Image Classification :-"
   ]
  },
  {
   "cell_type": "markdown",
   "metadata": {},
   "source": [
    "### In this project, I have classified images from the CIFAR-10 dataset(https://www.cs.toronto.edu/~kriz/cifar.html). The dataset consists of airplanes, dogs, cats, and other objects. I have preprocess the images, then train a convolutional neural network on all the samples.The images need to be normalized and the labels need to be one-hot encoded. "
   ]
  },
  {
   "cell_type": "markdown",
   "metadata": {},
   "source": [
    "# Get the data :-"
   ]
  },
  {
   "cell_type": "code",
   "execution_count": 4,
   "metadata": {},
   "outputs": [],
   "source": [
    "from urllib.request import urlretrieve\n",
    "from os.path import isfile, isdir\n",
    "from tqdm import tqdm\n",
    "import tarfile"
   ]
  },
  {
   "cell_type": "code",
   "execution_count": 5,
   "metadata": {},
   "outputs": [],
   "source": [
    "cifar10_dataset_folder_path = 'cifar-10-batches-py'\n",
    "\n",
    "class DLProgress(tqdm):\n",
    "    last_block = 0\n",
    "\n",
    "    def hook(self, block_num=1, block_size=1, total_size=None):\n",
    "        self.total = total_size\n",
    "        self.update((block_num - self.last_block) * block_size)\n",
    "        self.last_block = block_num\n",
    "\n",
    "if not isfile('cifar-10-python.tar.gz'):\n",
    "    with DLProgress(unit='B', unit_scale=True, miniters=1, desc='CIFAR-10 Dataset') as pbar:\n",
    "        urlretrieve(\n",
    "            'https://www.cs.toronto.edu/~kriz/cifar-10-python.tar.gz',\n",
    "            'cifar-10-python.tar.gz',\n",
    "            pbar.hook)\n",
    "\n",
    "if not isdir(cifar10_dataset_folder_path):\n",
    "    with tarfile.open('cifar-10-python.tar.gz') as tar:\n",
    "        tar.extractall()\n",
    "        tar.close()"
   ]
  },
  {
   "cell_type": "markdown",
   "metadata": {},
   "source": [
    "# Explore the data :-"
   ]
  },
  {
   "cell_type": "code",
   "execution_count": 23,
   "metadata": {},
   "outputs": [
    {
     "name": "stdout",
     "output_type": "stream",
     "text": [
      "\n",
      "Stats of batch 1:\n",
      "Samples: 10000\n",
      "Label Counts: {0: 1005, 1: 974, 2: 1032, 3: 1016, 4: 999, 5: 937, 6: 1030, 7: 1001, 8: 1025, 9: 981}\n",
      "First 20 Labels: [6, 9, 9, 4, 1, 1, 2, 7, 8, 3, 4, 7, 7, 2, 9, 9, 9, 3, 2, 6]\n",
      "\n",
      "Example of Image 6:\n",
      "Image - Min Value: 7 Max Value: 249\n",
      "Image - Shape: (32, 32, 3)\n",
      "Label - Label Id: 2 Name: bird\n"
     ]
    },
    {
     "data": {
      "image/png": "[encoded data removed]",
      "text/plain": [
       "<Figure size 432x288 with 1 Axes>"
      ]
     },
     "metadata": {
      "image/png": {
       "height": 248,
       "width": 251
      },
      "needs_background": "light"
     },
     "output_type": "display_data"
    }
   ],
   "source": [
    "%matplotlib inline\n",
    "%config InlineBackend.figure_format = 'retina'\n",
    "\n",
    "import helper\n",
    "import numpy as np\n",
    "\n",
    "# Explore the dataset\n",
    "batch_id = 1\n",
    "sample_id = 6\n",
    "helper.display_stats(cifar10_dataset_folder_path, batch_id, sample_id)"
   ]
  },
  {
   "cell_type": "markdown",
   "metadata": {},
   "source": [
    "## Normalize :-"
   ]
  },
  {
   "cell_type": "code",
   "execution_count": 24,
   "metadata": {},
   "outputs": [],
   "source": [
    "def normalize(x):\n",
    "    \"\"\"\n",
    "    Normalize a list of sample image data in the range of 0 to 1\n",
    "    : x: List of image data.  The image shape is (32, 32, 3)\n",
    "    : return: Numpy array of normalize data\n",
    "    \"\"\"\n",
    "    # TODO: Implement Function\n",
    "    return x / 255"
   ]
  },
  {
   "cell_type": "markdown",
   "metadata": {},
   "source": [
    "## One-hot encode :- "
   ]
  },
  {
   "cell_type": "code",
   "execution_count": 25,
   "metadata": {},
   "outputs": [
    {
     "name": "stderr",
     "output_type": "stream",
     "text": [
      "Using TensorFlow backend.\n"
     ]
    }
   ],
   "source": [
    "from keras.utils import np_utils\n",
    "def one_hot_encode(x):\n",
    "    \"\"\"\n",
    "    One hot encode a list of sample labels. Return a one-hot encoded vector for each label.\n",
    "    : x: List of sample Labels\n",
    "    : return: Numpy array of one-hot encoded labels\n",
    "    \"\"\"\n",
    "    # TODO: Implement Function\n",
    "    return np_utils.to_categorical(x)"
   ]
  },
  {
   "cell_type": "markdown",
   "metadata": {},
   "source": [
    "## Preprocessing all the data and saving it :-"
   ]
  },
  {
   "cell_type": "code",
   "execution_count": 26,
   "metadata": {},
   "outputs": [],
   "source": [
    "# Preprocess Training, Validation, and Testing Data\n",
    "helper.preprocess_and_save_data(cifar10_dataset_folder_path, normalize, one_hot_encode)"
   ]
  },
  {
   "cell_type": "markdown",
   "metadata": {},
   "source": [
    "## Check Point :-"
   ]
  },
  {
   "cell_type": "code",
   "execution_count": 28,
   "metadata": {},
   "outputs": [],
   "source": [
    "import pickle\n",
    "import helper\n",
    "\n",
    "# Load the Preprocessed Validation data\n",
    "valid_features, valid_labels = pickle.load(open('preprocess_validation.p', mode='rb'))"
   ]
  },
  {
   "cell_type": "markdown",
   "metadata": {},
   "source": [
    "## Building the network :-"
   ]
  },
  {
   "cell_type": "code",
   "execution_count": 29,
   "metadata": {},
   "outputs": [],
   "source": [
    "import tensorflow as tf\n",
    "\n",
    "def neural_net_image_input(image_shape):\n",
    "    \"\"\"\n",
    "    Return a Tensor for a batch of image input\n",
    "    : image_shape: Shape of the images\n",
    "    : return: Tensor for image input.\n",
    "    \"\"\"\n",
    "    # TODO: Implement Function\n",
    "    shape = [None] + list(image_shape)\n",
    "    return tf.placeholder(tf.float32, shape = shape, name = \"x\")\n",
    "\n",
    "def neural_net_label_input(n_classes):\n",
    "    \"\"\"\n",
    "    Return a Tensor for a batch of label input\n",
    "    : n_classes: Number of classes\n",
    "    : return: Tensor for label input.\n",
    "    \"\"\"\n",
    "    # TODO: Implement Function\n",
    "    return tf.placeholder(tf.float32, shape = [None,n_classes], name = \"y\")\n",
    "\n",
    "\n",
    "def neural_net_keep_prob_input():\n",
    "    \"\"\"\n",
    "    Return a Tensor for keep probability\n",
    "    : return: Tensor for keep probability.\n",
    "    \"\"\"\n",
    "    # TODO: Implement Function\n",
    "    return tf.placeholder(tf.float32, name = \"keep_prob\")"
   ]
  },
  {
   "cell_type": "code",
   "execution_count": 30,
   "metadata": {},
   "outputs": [],
   "source": [
    "def new_weights(shape):\n",
    "    # Create new weights for each layer\n",
    "    return tf.Variable(tf.truncated_normal(shape, stddev=0.05))\n",
    "    \n",
    "def new_biases(length):\n",
    "    # Create new biases for each layer\n",
    "    return tf.Variable(tf.constant(0.05, shape=[length]))"
   ]
  },
  {
   "cell_type": "markdown",
   "metadata": {},
   "source": [
    "### Convolution and Max Pooling Layer :-"
   ]
  },
  {
   "cell_type": "code",
   "execution_count": 31,
   "metadata": {},
   "outputs": [],
   "source": [
    "def conv2d_maxpool(x_tensor, conv_num_outputs, conv_ksize, conv_strides, pool_ksize, pool_strides):\n",
    "    \"\"\"\n",
    "    Apply convolution then max pooling to x_tensor\n",
    "    :param x_tensor: TensorFlow Tensor\n",
    "    :param conv_num_outputs: Number of outputs for the convolutional layer\n",
    "    :param conv_strides: Stride 2-D Tuple for convolution\n",
    "    :param pool_ksize: kernal size 2-D Tuple for pool\n",
    "    :param pool_strides: Stride 2-D Tuple for pool\n",
    "    : return: A tensor that represents convolution and max pooling of x_tensor\n",
    "    \"\"\"\n",
    "    # TODO: Implement Function\n",
    "    \n",
    "    # Number of input units to a layer\n",
    "    conv_num_inputs = x_tensor.get_shape().as_list()[3]\n",
    "    \n",
    "    conv_height = conv_ksize[0]\n",
    "    conv_width = conv_ksize[1]\n",
    "    \n",
    "    conv_shape = [conv_height, conv_width, conv_num_inputs, conv_num_outputs]\n",
    "    \n",
    "    # Update the weights before building the convolutional neural network\n",
    "    weights = new_weights(shape = conv_shape)\n",
    "    \n",
    "    x_tensor = tf.nn.conv2d(input = x_tensor,\n",
    "                            filter = weights,\n",
    "                            strides = [1, conv_strides[0], conv_strides[1], 1],\n",
    "                            padding = 'SAME')\n",
    "    \n",
    "    # Update the biases before applying them\n",
    "    biases = new_biases(length = conv_num_outputs)\n",
    "    x_tensor += biases\n",
    "    \n",
    "    # Apply the activation function\n",
    "    x_tensor = tf.nn.elu(x_tensor)\n",
    "    \n",
    "    x_tensor = tf.nn.max_pool(value = x_tensor,\n",
    "                               ksize=[1, conv_height, conv_width, 1],\n",
    "                               strides=[1, pool_strides[0], pool_strides[1], 1],\n",
    "                               padding='SAME')\n",
    "    \n",
    "    return x_tensor "
   ]
  },
  {
   "cell_type": "markdown",
   "metadata": {},
   "source": [
    "### Flatten Layer :-"
   ]
  },
  {
   "cell_type": "code",
   "execution_count": 32,
   "metadata": {},
   "outputs": [],
   "source": [
    "def flatten(x_tensor):\n",
    "    \"\"\"\n",
    "    Flatten x_tensor to (Batch Size, Flattened Image Size)\n",
    "    : x_tensor: A tensor of size (Batch Size, ...), where ... are the image dimensions.\n",
    "    : return: A tensor of size (Batch Size, Flattened Image Size).\n",
    "    \"\"\"\n",
    "    # TODO: Implement Function\n",
    "    \n",
    "    # The shape of the input layer is assumed to be:\n",
    "    # layer_shape == [num_images, img_height, img_width, num_channels]\n",
    "    layer_shape = x_tensor.get_shape()\n",
    "    \n",
    "    # The number of features is: img_height * img_width * num_channels\n",
    "    # We can use a function from TensorFlow to calculate this.\n",
    "    num_features = layer_shape[1:4].num_elements()\n",
    "    \n",
    "    # Reshape the layer to [num_images, num_features].\n",
    "    # Note that we just set the size of the second dimension\n",
    "    # to num_features and the size of the first dimension to -1\n",
    "    # which means the size in that dimension is calculated\n",
    "    # so the total size of the tensor is unchanged from the reshaping.\n",
    "    x_tensor = tf.reshape(x_tensor, [-1, num_features])\n",
    "    \n",
    "    return x_tensor"
   ]
  },
  {
   "cell_type": "markdown",
   "metadata": {},
   "source": [
    "### Fully-Connected Layer :-"
   ]
  },
  {
   "cell_type": "code",
   "execution_count": 33,
   "metadata": {},
   "outputs": [],
   "source": [
    "def fully_conn(x_tensor, num_outputs):\n",
    "    \"\"\"\n",
    "    Apply a fully connected layer to x_tensor using weight and bias\n",
    "    : x_tensor: A 2-D tensor where the first dimension is batch size.\n",
    "    : num_outputs: The number of output that the new tensor should be.\n",
    "    : return: A 2-D tensor where the second dimension is num_outputs.\n",
    "    \"\"\"\n",
    "    # TODO: Implement Function\n",
    "    num_inputs = x_tensor.get_shape().as_list()[1]\n",
    "    weights = new_weights(shape=[num_inputs, num_outputs])\n",
    "    biases = new_biases(length=num_outputs)\n",
    "    \n",
    "    layer = tf.add(tf.matmul(x_tensor, weights), biases)\n",
    "\n",
    "    layer = tf.nn.elu(layer)\n",
    "    \n",
    "    return layer"
   ]
  },
  {
   "cell_type": "markdown",
   "metadata": {},
   "source": [
    "### Output Layer :-"
   ]
  },
  {
   "cell_type": "code",
   "execution_count": 34,
   "metadata": {},
   "outputs": [],
   "source": [
    "def output(x_tensor, num_outputs):\n",
    "    \"\"\"\n",
    "    Apply a output layer to x_tensor using weight and bias\n",
    "    : x_tensor: A 2-D tensor where the first dimension is batch size.\n",
    "    : num_outputs: The number of output that the new tensor should be.\n",
    "    : return: A 2-D tensor where the second dimension is num_outputs.\n",
    "    \"\"\"\n",
    "    # TODO: Implement Function\n",
    "    \n",
    "    num_inputs = x_tensor.get_shape().as_list()[1]\n",
    "    weights = new_weights(shape=[num_inputs, num_outputs])\n",
    "    biases = new_biases(length=num_outputs)\n",
    "    \n",
    "    layer = tf.add(tf.matmul(x_tensor, weights), biases)\n",
    "    \n",
    "    return layer"
   ]
  },
  {
   "cell_type": "markdown",
   "metadata": {},
   "source": [
    "### Convolutional Model :-"
   ]
  },
  {
   "cell_type": "code",
   "execution_count": 42,
   "metadata": {},
   "outputs": [],
   "source": [
    "def conv_net(x, keep_prob):\n",
    "    \"\"\"\n",
    "    Create a convolutional neural network model\n",
    "    : x: Placeholder tensor that holds image data.\n",
    "    : keep_prob: Placeholder tensor that hold dropout keep probability.\n",
    "    : return: Tensor that represents logits\n",
    "    \"\"\"\n",
    "    # TODO: Apply 1, 2, or 3 Convolution and Max Pool layers\n",
    "    #    Play around with different number of outputs, kernel size and stride\n",
    "    # Function Definition from Above:\n",
    "    #    conv2d_maxpool(x_tensor, conv_num_outputs, conv_ksize, conv_strides, pool_ksize, pool_strides)\n",
    "    \n",
    "    # Layer 1\n",
    "    x1 = conv2d_maxpool(x_tensor = x, \n",
    "                   conv_num_outputs = 32, \n",
    "                   conv_ksize = (5,5), \n",
    "                   conv_strides = (2,2), \n",
    "                   pool_ksize = (2,2), \n",
    "                   pool_strides = (1,1))\n",
    "    \n",
    "    x1 = tf.nn.dropout(x1, keep_prob)\n",
    "    \n",
    "    # Layer 2\n",
    "    x2 = conv2d_maxpool(x_tensor = x1, \n",
    "                   conv_num_outputs = 64, \n",
    "                   conv_ksize = (5,5), \n",
    "                   conv_strides = (1,1), \n",
    "                   pool_ksize = (2,2), \n",
    "                   pool_strides = (1,1))\n",
    "    \n",
    "    x2 = tf.nn.dropout(x2, keep_prob)\n",
    "    \n",
    "    # TODO: Apply a Flatten Layer\n",
    "    # Function Definition from Above:\n",
    "    #   flatten(x_tensor)\n",
    "    \n",
    "    x2 = flatten(x_tensor = x2)\n",
    "\n",
    "    # TODO: Apply 1, 2, or 3 Fully Connected Layers\n",
    "    #    Play around with different number of outputs\n",
    "    # Function Definition from Above:\n",
    "    #   fully_conn(x_tensor, num_outputs)\n",
    "    \n",
    "    x2 = fully_conn(x_tensor = x2,\n",
    "               num_outputs = 128)\n",
    "    x2 = fully_conn(x_tensor = x2,\n",
    "               num_outputs = 256)\n",
    "    \n",
    "    # TODO: Apply an Output Layer\n",
    "    #    Set this to the number of classes\n",
    "    # Function Definition from Above:\n",
    "    #   output(x_tensor, num_outputs)\n",
    "    \n",
    "    x2 = output(x_tensor = x2,\n",
    "               num_outputs = 10)\n",
    "    \n",
    "    # TODO: return output\n",
    "    return x2\n",
    "\n",
    "##############################\n",
    "## Build the Neural Network ##\n",
    "##############################\n",
    "\n",
    "# Remove previous weights, bias, inputs, etc..\n",
    "tf.reset_default_graph()\n",
    "\n",
    "# Inputs\n",
    "x = neural_net_image_input((32, 32, 3))\n",
    "y = neural_net_label_input(10)\n",
    "keep_prob = neural_net_keep_prob_input()\n",
    "\n",
    "# Model\n",
    "logits = conv_net(x, keep_prob)\n",
    "\n",
    "# Name logits Tensor, so that is can be loaded from disk after training\n",
    "logits = tf.identity(logits, name='logits')\n",
    "\n",
    "# Loss and Optimizer\n",
    "cost = tf.reduce_mean(tf.nn.softmax_cross_entropy_with_logits(logits=logits, labels=y))\n",
    "optimizer = tf.train.AdamOptimizer().minimize(cost)\n",
    "\n",
    "# Accuracy\n",
    "correct_pred = tf.equal(tf.argmax(logits, 1), tf.argmax(y, 1))\n",
    "accuracy = tf.reduce_mean(tf.cast(correct_pred, tf.float32), name='accuracy')"
   ]
  },
  {
   "cell_type": "markdown",
   "metadata": {},
   "source": [
    "### Training the Neural Network :-"
   ]
  },
  {
   "cell_type": "code",
   "execution_count": 43,
   "metadata": {},
   "outputs": [],
   "source": [
    "def train_neural_network(session, optimizer, keep_probability, feature_batch, label_batch):\n",
    "    \"\"\"\n",
    "    Optimize the session on a batch of images and labels\n",
    "    : session: Current TensorFlow session\n",
    "    : optimizer: TensorFlow optimizer function\n",
    "    : keep_probability: keep probability\n",
    "    : feature_batch: Batch of Numpy image data\n",
    "    : label_batch: Batch of Numpy label data\n",
    "    \"\"\"\n",
    "    # TODO: Implement Function\n",
    "    \n",
    "    session.run(optimizer, feed_dict = {x: feature_batch,\n",
    "                                        y: label_batch,\n",
    "                                        keep_prob: keep_probability})"
   ]
  },
  {
   "cell_type": "markdown",
   "metadata": {},
   "source": [
    "### Show Stats :-"
   ]
  },
  {
   "cell_type": "code",
   "execution_count": 44,
   "metadata": {},
   "outputs": [],
   "source": [
    "def print_stats(session, feature_batch, label_batch, cost, accuracy):\n",
    "    \"\"\"\n",
    "    Print information about loss and validation accuracy\n",
    "    : session: Current TensorFlow session\n",
    "    : feature_batch: Batch of Numpy image data\n",
    "    : label_batch: Batch of Numpy label data\n",
    "    : cost: TensorFlow cost function\n",
    "    : accuracy: TensorFlow accuracy function\n",
    "    \"\"\"\n",
    "    # TODO: Implement Function\n",
    "    cost_score, accuracy_score = session.run([cost, accuracy], feed_dict = {x: valid_features,\n",
    "                                                                            y: valid_labels,\n",
    "                                                                            keep_prob: 1})\n",
    "    \n",
    "    print(\"cost_score = {0:>6.4}, accuracy_score = {1:>3.4%}\".format(cost_score, accuracy_score))"
   ]
  },
  {
   "cell_type": "markdown",
   "metadata": {},
   "source": [
    "### Hyperparameters :-"
   ]
  },
  {
   "cell_type": "code",
   "execution_count": 45,
   "metadata": {},
   "outputs": [],
   "source": [
    "# TODO: Tune Parameters\n",
    "epochs = 20\n",
    "batch_size = 128\n",
    "keep_probability = 0.7"
   ]
  },
  {
   "cell_type": "markdown",
   "metadata": {},
   "source": [
    "### Training on a Single CIFAR-10 Batch :-"
   ]
  },
  {
   "cell_type": "code",
   "execution_count": 46,
   "metadata": {},
   "outputs": [
    {
     "name": "stdout",
     "output_type": "stream",
     "text": [
      "Checking the Training on a Single Batch...\n",
      "Epoch  1, CIFAR-10 Batch 1:  cost_score =  1.929, accuracy_score = 35.3800%\n",
      "Epoch  2, CIFAR-10 Batch 1:  cost_score =  1.561, accuracy_score = 44.4800%\n",
      "Epoch  3, CIFAR-10 Batch 1:  cost_score =  1.398, accuracy_score = 49.7000%\n",
      "Epoch  4, CIFAR-10 Batch 1:  cost_score =  1.407, accuracy_score = 50.2800%\n",
      "Epoch  5, CIFAR-10 Batch 1:  cost_score =  1.352, accuracy_score = 52.5800%\n",
      "Epoch  6, CIFAR-10 Batch 1:  cost_score =  1.394, accuracy_score = 52.8800%\n",
      "Epoch  7, CIFAR-10 Batch 1:  cost_score =   1.38, accuracy_score = 54.4800%\n",
      "Epoch  8, CIFAR-10 Batch 1:  cost_score =  1.304, accuracy_score = 57.3000%\n",
      "Epoch  9, CIFAR-10 Batch 1:  cost_score =  1.425, accuracy_score = 54.1200%\n",
      "Epoch 10, CIFAR-10 Batch 1:  cost_score =  1.488, accuracy_score = 54.4200%\n",
      "Epoch 11, CIFAR-10 Batch 1:  cost_score =  1.525, accuracy_score = 54.9400%\n",
      "Epoch 12, CIFAR-10 Batch 1:  cost_score =  1.593, accuracy_score = 54.8400%\n",
      "Epoch 13, CIFAR-10 Batch 1:  cost_score =  1.476, accuracy_score = 56.7200%\n",
      "Epoch 14, CIFAR-10 Batch 1:  cost_score =  1.578, accuracy_score = 56.6200%\n",
      "Epoch 15, CIFAR-10 Batch 1:  cost_score =  1.617, accuracy_score = 57.3200%\n",
      "Epoch 16, CIFAR-10 Batch 1:  cost_score =  1.733, accuracy_score = 57.1600%\n",
      "Epoch 17, CIFAR-10 Batch 1:  cost_score =  1.673, accuracy_score = 57.8400%\n",
      "Epoch 18, CIFAR-10 Batch 1:  cost_score =  1.722, accuracy_score = 58.7400%\n",
      "Epoch 19, CIFAR-10 Batch 1:  cost_score =  1.844, accuracy_score = 57.3400%\n",
      "Epoch 20, CIFAR-10 Batch 1:  cost_score =  1.698, accuracy_score = 60.1400%\n"
     ]
    }
   ],
   "source": [
    "print('Checking the Training on a Single Batch...')\n",
    "with tf.Session() as sess:\n",
    "    # Initializing the variables\n",
    "    sess.run(tf.global_variables_initializer())\n",
    "    \n",
    "    # Training cycle\n",
    "    for epoch in range(epochs):\n",
    "        batch_i = 1\n",
    "        for batch_features, batch_labels in helper.load_preprocess_training_batch(batch_i, batch_size):\n",
    "            train_neural_network(sess, optimizer, keep_probability, batch_features, batch_labels)\n",
    "        print('Epoch {:>2}, CIFAR-10 Batch {}:  '.format(epoch + 1, batch_i), end='')\n",
    "        print_stats(sess, batch_features, batch_labels, cost, accuracy)"
   ]
  },
  {
   "cell_type": "markdown",
   "metadata": {},
   "source": [
    "### Fully Training the Model :-"
   ]
  },
  {
   "cell_type": "code",
   "execution_count": 47,
   "metadata": {},
   "outputs": [
    {
     "name": "stdout",
     "output_type": "stream",
     "text": [
      "Training...\n",
      "Epoch  1, CIFAR-10 Batch 1:  cost_score =  2.544, accuracy_score = 25.4600%\n",
      "Epoch  1, CIFAR-10 Batch 2:  cost_score =  1.795, accuracy_score = 37.9000%\n",
      "Epoch  1, CIFAR-10 Batch 3:  cost_score =  1.732, accuracy_score = 41.1200%\n",
      "Epoch  1, CIFAR-10 Batch 4:  cost_score =   1.68, accuracy_score = 41.3400%\n",
      "Epoch  1, CIFAR-10 Batch 5:  cost_score =  1.262, accuracy_score = 54.8000%\n",
      "Epoch  2, CIFAR-10 Batch 1:  cost_score =  1.272, accuracy_score = 55.7600%\n",
      "Epoch  2, CIFAR-10 Batch 2:  cost_score =  1.235, accuracy_score = 56.3400%\n",
      "Epoch  2, CIFAR-10 Batch 3:  cost_score =  1.149, accuracy_score = 58.9400%\n",
      "Epoch  2, CIFAR-10 Batch 4:  cost_score =  1.161, accuracy_score = 59.2000%\n",
      "Epoch  2, CIFAR-10 Batch 5:  cost_score =  1.112, accuracy_score = 61.2000%\n",
      "Epoch  3, CIFAR-10 Batch 1:  cost_score =  1.109, accuracy_score = 61.6400%\n",
      "Epoch  3, CIFAR-10 Batch 2:  cost_score =  1.144, accuracy_score = 58.5400%\n",
      "Epoch  3, CIFAR-10 Batch 3:  cost_score =   1.03, accuracy_score = 63.2600%\n",
      "Epoch  3, CIFAR-10 Batch 4:  cost_score =  1.056, accuracy_score = 62.5400%\n",
      "Epoch  3, CIFAR-10 Batch 5:  cost_score = 0.9678, accuracy_score = 67.0200%\n",
      "Epoch  4, CIFAR-10 Batch 1:  cost_score =  1.082, accuracy_score = 62.3000%\n",
      "Epoch  4, CIFAR-10 Batch 2:  cost_score =  1.051, accuracy_score = 63.3400%\n",
      "Epoch  4, CIFAR-10 Batch 3:  cost_score =  1.039, accuracy_score = 63.3000%\n",
      "Epoch  4, CIFAR-10 Batch 4:  cost_score =  1.001, accuracy_score = 65.5400%\n",
      "Epoch  4, CIFAR-10 Batch 5:  cost_score = 0.9125, accuracy_score = 68.3000%\n",
      "Epoch  5, CIFAR-10 Batch 1:  cost_score =  0.999, accuracy_score = 65.0800%\n",
      "Epoch  5, CIFAR-10 Batch 2:  cost_score = 0.9551, accuracy_score = 66.7000%\n",
      "Epoch  5, CIFAR-10 Batch 3:  cost_score =  1.019, accuracy_score = 64.5600%\n",
      "Epoch  5, CIFAR-10 Batch 4:  cost_score = 0.9614, accuracy_score = 66.3400%\n",
      "Epoch  5, CIFAR-10 Batch 5:  cost_score = 0.8977, accuracy_score = 69.3800%\n",
      "Epoch  6, CIFAR-10 Batch 1:  cost_score = 0.9889, accuracy_score = 66.6600%\n",
      "Epoch  6, CIFAR-10 Batch 2:  cost_score = 0.9129, accuracy_score = 67.9200%\n",
      "Epoch  6, CIFAR-10 Batch 3:  cost_score =  1.009, accuracy_score = 65.2800%\n",
      "Epoch  6, CIFAR-10 Batch 4:  cost_score = 0.9016, accuracy_score = 69.2000%\n",
      "Epoch  6, CIFAR-10 Batch 5:  cost_score = 0.8723, accuracy_score = 70.4000%\n",
      "Epoch  7, CIFAR-10 Batch 1:  cost_score = 0.9357, accuracy_score = 68.3400%\n",
      "Epoch  7, CIFAR-10 Batch 2:  cost_score = 0.9065, accuracy_score = 69.1000%\n",
      "Epoch  7, CIFAR-10 Batch 3:  cost_score =  1.077, accuracy_score = 62.9200%\n",
      "Epoch  7, CIFAR-10 Batch 4:  cost_score = 0.9179, accuracy_score = 68.8000%\n",
      "Epoch  7, CIFAR-10 Batch 5:  cost_score = 0.8607, accuracy_score = 71.3600%\n",
      "Epoch  8, CIFAR-10 Batch 1:  cost_score = 0.9098, accuracy_score = 69.8200%\n",
      "Epoch  8, CIFAR-10 Batch 2:  cost_score = 0.9413, accuracy_score = 68.7200%\n",
      "Epoch  8, CIFAR-10 Batch 3:  cost_score =  1.022, accuracy_score = 65.5400%\n",
      "Epoch  8, CIFAR-10 Batch 4:  cost_score =  0.914, accuracy_score = 69.8800%\n",
      "Epoch  8, CIFAR-10 Batch 5:  cost_score = 0.8681, accuracy_score = 71.6800%\n",
      "Epoch  9, CIFAR-10 Batch 1:  cost_score = 0.9053, accuracy_score = 70.2800%\n",
      "Epoch  9, CIFAR-10 Batch 2:  cost_score = 0.9035, accuracy_score = 69.4000%\n",
      "Epoch  9, CIFAR-10 Batch 3:  cost_score = 0.9948, accuracy_score = 67.5600%\n",
      "Epoch  9, CIFAR-10 Batch 4:  cost_score = 0.9237, accuracy_score = 70.3000%\n",
      "Epoch  9, CIFAR-10 Batch 5:  cost_score = 0.9325, accuracy_score = 69.9200%\n",
      "Epoch 10, CIFAR-10 Batch 1:  cost_score = 0.9004, accuracy_score = 71.0200%\n",
      "Epoch 10, CIFAR-10 Batch 2:  cost_score = 0.9834, accuracy_score = 67.9400%\n",
      "Epoch 10, CIFAR-10 Batch 3:  cost_score =  0.958, accuracy_score = 69.4400%\n",
      "Epoch 10, CIFAR-10 Batch 4:  cost_score = 0.8861, accuracy_score = 70.8400%\n",
      "Epoch 10, CIFAR-10 Batch 5:  cost_score = 0.9173, accuracy_score = 70.0600%\n",
      "Epoch 11, CIFAR-10 Batch 1:  cost_score = 0.9615, accuracy_score = 70.0600%\n",
      "Epoch 11, CIFAR-10 Batch 2:  cost_score = 0.9225, accuracy_score = 70.0600%\n",
      "Epoch 11, CIFAR-10 Batch 3:  cost_score = 0.9544, accuracy_score = 70.0600%\n",
      "Epoch 11, CIFAR-10 Batch 4:  cost_score = 0.9289, accuracy_score = 70.8200%\n",
      "Epoch 11, CIFAR-10 Batch 5:  cost_score = 0.9216, accuracy_score = 71.5400%\n",
      "Epoch 12, CIFAR-10 Batch 1:  cost_score = 0.9705, accuracy_score = 70.9200%\n",
      "Epoch 12, CIFAR-10 Batch 2:  cost_score = 0.9559, accuracy_score = 69.8400%\n",
      "Epoch 12, CIFAR-10 Batch 3:  cost_score = 0.9598, accuracy_score = 70.2600%\n",
      "Epoch 12, CIFAR-10 Batch 4:  cost_score = 0.9219, accuracy_score = 70.9400%\n",
      "Epoch 12, CIFAR-10 Batch 5:  cost_score = 0.9324, accuracy_score = 72.0400%\n",
      "Epoch 13, CIFAR-10 Batch 1:  cost_score =  1.017, accuracy_score = 70.1200%\n",
      "Epoch 13, CIFAR-10 Batch 2:  cost_score = 0.9219, accuracy_score = 71.6000%\n",
      "Epoch 13, CIFAR-10 Batch 3:  cost_score = 0.9988, accuracy_score = 70.9000%\n",
      "Epoch 13, CIFAR-10 Batch 4:  cost_score =  0.953, accuracy_score = 70.7800%\n",
      "Epoch 13, CIFAR-10 Batch 5:  cost_score = 0.9433, accuracy_score = 71.9800%\n",
      "Epoch 14, CIFAR-10 Batch 1:  cost_score =  1.008, accuracy_score = 70.3000%\n",
      "Epoch 14, CIFAR-10 Batch 2:  cost_score =  1.006, accuracy_score = 70.2000%\n",
      "Epoch 14, CIFAR-10 Batch 3:  cost_score =  1.008, accuracy_score = 70.6200%\n",
      "Epoch 14, CIFAR-10 Batch 4:  cost_score = 0.9844, accuracy_score = 70.3200%\n",
      "Epoch 14, CIFAR-10 Batch 5:  cost_score =  1.037, accuracy_score = 70.2600%\n",
      "Epoch 15, CIFAR-10 Batch 1:  cost_score =  1.066, accuracy_score = 70.3600%\n",
      "Epoch 15, CIFAR-10 Batch 2:  cost_score =   1.09, accuracy_score = 68.9600%\n",
      "Epoch 15, CIFAR-10 Batch 3:  cost_score =  1.041, accuracy_score = 70.4600%\n",
      "Epoch 15, CIFAR-10 Batch 4:  cost_score =  1.074, accuracy_score = 68.8400%\n",
      "Epoch 15, CIFAR-10 Batch 5:  cost_score =  1.004, accuracy_score = 71.1600%\n",
      "Epoch 16, CIFAR-10 Batch 1:  cost_score =  1.046, accuracy_score = 70.5800%\n",
      "Epoch 16, CIFAR-10 Batch 2:  cost_score =  1.018, accuracy_score = 70.9400%\n",
      "Epoch 16, CIFAR-10 Batch 3:  cost_score =  1.057, accuracy_score = 69.6600%\n",
      "Epoch 16, CIFAR-10 Batch 4:  cost_score =   1.06, accuracy_score = 69.0400%\n",
      "Epoch 16, CIFAR-10 Batch 5:  cost_score =  1.016, accuracy_score = 70.7800%\n",
      "Epoch 17, CIFAR-10 Batch 1:  cost_score =  1.124, accuracy_score = 70.0800%\n",
      "Epoch 17, CIFAR-10 Batch 2:  cost_score =   1.03, accuracy_score = 71.2800%\n",
      "Epoch 17, CIFAR-10 Batch 3:  cost_score =  1.077, accuracy_score = 69.5600%\n",
      "Epoch 17, CIFAR-10 Batch 4:  cost_score =   1.03, accuracy_score = 70.7000%\n",
      "Epoch 17, CIFAR-10 Batch 5:  cost_score =   1.06, accuracy_score = 70.6200%\n",
      "Epoch 18, CIFAR-10 Batch 1:  cost_score =  1.112, accuracy_score = 69.9200%\n",
      "Epoch 18, CIFAR-10 Batch 2:  cost_score =  1.108, accuracy_score = 69.8800%\n",
      "Epoch 18, CIFAR-10 Batch 3:  cost_score =  1.127, accuracy_score = 70.0400%\n",
      "Epoch 18, CIFAR-10 Batch 4:  cost_score =  1.114, accuracy_score = 69.3600%\n",
      "Epoch 18, CIFAR-10 Batch 5:  cost_score =  1.108, accuracy_score = 70.5200%\n",
      "Epoch 19, CIFAR-10 Batch 1:  cost_score =  1.162, accuracy_score = 69.7200%\n",
      "Epoch 19, CIFAR-10 Batch 2:  cost_score =  1.103, accuracy_score = 69.6200%\n",
      "Epoch 19, CIFAR-10 Batch 3:  cost_score =  1.086, accuracy_score = 71.2400%\n",
      "Epoch 19, CIFAR-10 Batch 4:  cost_score =  1.077, accuracy_score = 70.3600%\n",
      "Epoch 19, CIFAR-10 Batch 5:  cost_score =  1.123, accuracy_score = 70.0200%\n",
      "Epoch 20, CIFAR-10 Batch 1:  cost_score =  1.179, accuracy_score = 70.1600%\n",
      "Epoch 20, CIFAR-10 Batch 2:  cost_score =  1.172, accuracy_score = 68.7200%\n",
      "Epoch 20, CIFAR-10 Batch 3:  cost_score =   1.13, accuracy_score = 70.9800%\n",
      "Epoch 20, CIFAR-10 Batch 4:  cost_score =  1.117, accuracy_score = 69.6000%\n",
      "Epoch 20, CIFAR-10 Batch 5:  cost_score =   1.21, accuracy_score = 68.9800%\n"
     ]
    }
   ],
   "source": [
    "save_model_path = './image_classification'\n",
    "\n",
    "print('Training...')\n",
    "with tf.Session() as sess:\n",
    "    # Initializing the variables\n",
    "    sess.run(tf.global_variables_initializer())\n",
    "    \n",
    "    # Training cycle\n",
    "    for epoch in range(epochs):\n",
    "        # Loop over all batches\n",
    "        n_batches = 5\n",
    "        for batch_i in range(1, n_batches + 1):\n",
    "            for batch_features, batch_labels in helper.load_preprocess_training_batch(batch_i, batch_size):\n",
    "                train_neural_network(sess, optimizer, keep_probability, batch_features, batch_labels)\n",
    "            print('Epoch {:>2}, CIFAR-10 Batch {}:  '.format(epoch + 1, batch_i), end='')\n",
    "            print_stats(sess, batch_features, batch_labels, cost, accuracy)\n",
    "            \n",
    "    # Save Model\n",
    "    saver = tf.train.Saver()\n",
    "    save_path = saver.save(sess, save_model_path)"
   ]
  },
  {
   "cell_type": "markdown",
   "metadata": {},
   "source": [
    "### Test Model :-"
   ]
  },
  {
   "cell_type": "code",
   "execution_count": 48,
   "metadata": {},
   "outputs": [
    {
     "name": "stdout",
     "output_type": "stream",
     "text": [
      "WARNING:tensorflow:From C:\\Users\\Vibhor\\Anaconda3\\lib\\site-packages\\tensorflow\\python\\training\\saver.py:1266: checkpoint_exists (from tensorflow.python.training.checkpoint_management) is deprecated and will be removed in a future version.\n",
      "Instructions for updating:\n",
      "Use standard file APIs to check for files with this prefix.\n",
      "INFO:tensorflow:Restoring parameters from ./image_classification\n",
      "Testing Accuracy: 0.6887856012658228\n",
      "\n"
     ]
    },
    {
     "name": "stderr",
     "output_type": "stream",
     "text": [
      "Clipping input data to the valid range for imshow with RGB data ([0..1] for floats or [0..255] for integers).\n",
      "Clipping input data to the valid range for imshow with RGB data ([0..1] for floats or [0..255] for integers).\n",
      "Clipping input data to the valid range for imshow with RGB data ([0..1] for floats or [0..255] for integers).\n",
      "Clipping input data to the valid range for imshow with RGB data ([0..1] for floats or [0..255] for integers).\n"
     ]
    },
    {
     "data": {
      "image/png": "[encoded data removed]",
      "text/plain": [
       "<Figure size 432x288 with 8 Axes>"
      ]
     },
     "metadata": {
      "image/png": {
       "height": 319,
       "width": 355
      },
      "needs_background": "light"
     },
     "output_type": "display_data"
    }
   ],
   "source": [
    "%matplotlib inline\n",
    "%config InlineBackend.figure_format = 'retina'\n",
    "\n",
    "import tensorflow as tf\n",
    "import pickle\n",
    "import helper\n",
    "import random\n",
    "\n",
    "# Set batch size if not already set\n",
    "try:\n",
    "    if batch_size:\n",
    "        pass\n",
    "except NameError:\n",
    "    batch_size = 64\n",
    "\n",
    "save_model_path = './image_classification'\n",
    "n_samples = 4\n",
    "top_n_predictions = 3\n",
    "\n",
    "def test_model():\n",
    "    \"\"\"\n",
    "    Test the saved model against the test dataset\n",
    "    \"\"\"\n",
    "\n",
    "    test_features, test_labels = pickle.load(open('preprocess_training.p', mode='rb'))\n",
    "    loaded_graph = tf.Graph()\n",
    "\n",
    "    with tf.Session(graph=loaded_graph) as sess:\n",
    "        # Load model\n",
    "        loader = tf.train.import_meta_graph(save_model_path + '.meta')\n",
    "        loader.restore(sess, save_model_path)\n",
    "\n",
    "        # Get Tensors from loaded model\n",
    "        loaded_x = loaded_graph.get_tensor_by_name('x:0')\n",
    "        loaded_y = loaded_graph.get_tensor_by_name('y:0')\n",
    "        loaded_keep_prob = loaded_graph.get_tensor_by_name('keep_prob:0')\n",
    "        loaded_logits = loaded_graph.get_tensor_by_name('logits:0')\n",
    "        loaded_acc = loaded_graph.get_tensor_by_name('accuracy:0')\n",
    "        \n",
    "        # Get accuracy in batches for memory limitations\n",
    "        test_batch_acc_total = 0\n",
    "        test_batch_count = 0\n",
    "        \n",
    "        for train_feature_batch, train_label_batch in helper.batch_features_labels(test_features, test_labels, batch_size):\n",
    "            test_batch_acc_total += sess.run(\n",
    "                loaded_acc,\n",
    "                feed_dict={loaded_x: train_feature_batch, loaded_y: train_label_batch, loaded_keep_prob: 1.0})\n",
    "            test_batch_count += 1\n",
    "\n",
    "        print('Testing Accuracy: {}\\n'.format(test_batch_acc_total/test_batch_count))\n",
    "\n",
    "        # Print Random Samples\n",
    "        random_test_features, random_test_labels = tuple(zip(*random.sample(list(zip(test_features, test_labels)), n_samples)))\n",
    "        random_test_predictions = sess.run(\n",
    "            tf.nn.top_k(tf.nn.softmax(loaded_logits), top_n_predictions),\n",
    "            feed_dict={loaded_x: random_test_features, loaded_y: random_test_labels, loaded_keep_prob: 1.0})\n",
    "        helper.display_image_predictions(random_test_features, random_test_labels, random_test_predictions)\n",
    "\n",
    "\n",
    "test_model()"
   ]
  },
  {
   "cell_type": "code",
   "execution_count": null,
   "metadata": {},
   "outputs": [],
   "source": []
  }
 ],
 "metadata": {
  "kernelspec": {
   "display_name": "Python 3",
   "language": "python",
   "name": "python3"
  },
  "language_info": {
   "codemirror_mode": {
    "name": "ipython",
    "version": 3
   },
   "file_extension": ".py",
   "mimetype": "text/x-python",
   "name": "python",
   "nbconvert_exporter": "python",
   "pygments_lexer": "ipython3",
   "version": "3.7.3"
  }
 },
 "nbformat": 4,
 "nbformat_minor": 2
}
